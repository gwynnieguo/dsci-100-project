{
 "cells": [
  {
   "cell_type": "markdown",
   "id": "b3e0f2d8-2a8c-4f63-b171-d597404284e2",
   "metadata": {},
   "source": [
    "# DSCI 100 - Project Final Report\n",
    "Date: June 23 2025\n",
    "\n",
    "Author: Gwynnie Guo"
   ]
  },
  {
   "cell_type": "markdown",
   "id": "43da9233-7f74-46cc-be71-0d2d5b6b202a",
   "metadata": {},
   "source": [
    "## Introduction\n",
    "\n",
    "### Background\n",
    "This DSCI 100 project will investigate a question that arises from examining a real data science project conducted by a [research group in UBC](https://plai.cs.ubc.ca/) that has set up a Minecraft server to collect data about how players navigate the world.\n",
    "\n",
    "### Question\n",
    "This project will attempt to answer this broad question: **What player characteristics and behaviours are most predictive of subscribing to a game-related newsletter, and how do these features differ between various player types?**\n",
    "\n",
    "In order to answer this broad question, I will begin by formulating a specific question from some of the variables in the dataset. My question will be: **Can player experience level, played hours, gender, and age predict whether or not the player will subscribe to a game-related newsletter in the dataset \"players.csv\", and how do these characteristics differ for players of differing experience levels?** \n",
    "\n",
    "### Data Description \n",
    "The dataset used for this project is the players.csv data, which is a list of all unique players, including data about each player. There are a total of 196 observations (players) and 7 variables. \n",
    "\n",
    "These are the variables in the dataset:\n",
    "\n",
    "- `experience` - The experience level of each player. A factor data type going from Beginner, Amateur, Regular, Pro, Veteran.\n",
    "- `subscribe` - Whether or not the player is subscribed to a game-related newsletter\n",
    "- `hashedEmail` - The unique email/code for the player\n",
    "- `played_hours`\n",
    "- `name` - The name of the player\n",
    "- `gender` - The gender of the player\n",
    "- `Age` - The age of the player"
   ]
  },
  {
   "cell_type": "markdown",
   "id": "8b18eb5c-1f2d-4024-8739-8fe11e1f6d41",
   "metadata": {},
   "source": [
    "# Read the dataset \n",
    "players <- read_csv(\"data/players.csv\")\n",
    "players"
   ]
  }
 ],
 "metadata": {
  "kernelspec": {
   "display_name": "R",
   "language": "R",
   "name": "ir"
  },
  "language_info": {
   "codemirror_mode": "r",
   "file_extension": ".r",
   "mimetype": "text/x-r-source",
   "name": "R",
   "pygments_lexer": "r",
   "version": "4.3.3"
  }
 },
 "nbformat": 4,
 "nbformat_minor": 5
}
