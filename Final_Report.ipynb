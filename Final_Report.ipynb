{
 "cells": [
  {
   "cell_type": "markdown",
   "id": "b3e0f2d8-2a8c-4f63-b171-d597404284e2",
   "metadata": {},
   "source": [
    "# DSCI 100 - Project Final Report\n",
    "Date: June 23 2025\n",
    "\n",
    "Author: Gwynnie Guo"
   ]
  },
  {
   "cell_type": "markdown",
   "id": "43da9233-7f74-46cc-be71-0d2d5b6b202a",
   "metadata": {},
   "source": [
    "## Introduction\n",
    "\n",
    "### Background\n",
    "This DSCI 100 project will investigate a question that arises from examining a real data science project conducted by a [research group in UBC](https://plai.cs.ubc.ca/) that has set up a Minecraft server to collect data about how players navigate the world.\n",
    "\n",
    "### Question\n",
    "This project will attempt to answer this broad question: **What player characteristics and behaviours are most predictive of subscribing to a game-related newsletter, and how do these features differ between various player types?**\n",
    "\n",
    "In order to answer this broad question, I will begin by formulating a specific question from some of the variables in the dataset. My question will be: **Does played hours and/or age accurately predict whether or not the player will subscribe to a game-related newsletter in the dataset players.csv, and what is the most accurate model to predict whether a player will subscribe?** \n",
    "\n",
    "My hypothesis is that...\n",
    "\n",
    "### Data Description \n",
    "The dataset used for this project is the players.csv data, which is a list of all unique players, including data about each player. There are a total of 196 observations (players) and 7 variables. \n",
    "\n",
    "These are the variables in the dataset:\n",
    "\n",
    "- `experience` - The experience level of each player\n",
    "- `subscribe` - Whether or not the player is subscribed to a game-related newsletter\n",
    "- `hashedEmail` - The unique email/code for the player\n",
    "- `played_hours`\n",
    "- `name` - The name of the player\n",
    "- `gender` - The gender of the player\n",
    "- `Age` - The age of the player"
   ]
  },
  {
   "cell_type": "markdown",
   "id": "1b452ead-2677-4ab8-af6f-9ea1570fdf6c",
   "metadata": {},
   "source": [
    "## Methods & Results\n",
    "\n",
    "To see whether played hours and/or age can predict whether or not the player will subscribe to a game-related newsletter, I will use the K-nearest neighbors classification model to evaluate the accuracy of the classifier model for different quantiative predictor configurations on whether or not the player is subscribed: \n",
    "\n",
    "- predictor `played_hours` on whether or not the player is subscribed\n",
    "- predictor `Age` on whether or not the player is subscribed\n",
    "- predictor `played_hours` and `Age` on whether or not the player is subscribed"
   ]
  },
  {
   "cell_type": "code",
   "execution_count": 1,
   "id": "b341a890-ab21-490c-be58-0f364ee91f51",
   "metadata": {},
   "outputs": [
    {
     "name": "stderr",
     "output_type": "stream",
     "text": [
      "── \u001b[1mAttaching core tidyverse packages\u001b[22m ──────────────────────── tidyverse 2.0.0 ──\n",
      "\u001b[32m✔\u001b[39m \u001b[34mdplyr    \u001b[39m 1.1.4     \u001b[32m✔\u001b[39m \u001b[34mreadr    \u001b[39m 2.1.5\n",
      "\u001b[32m✔\u001b[39m \u001b[34mforcats  \u001b[39m 1.0.0     \u001b[32m✔\u001b[39m \u001b[34mstringr  \u001b[39m 1.5.1\n",
      "\u001b[32m✔\u001b[39m \u001b[34mggplot2  \u001b[39m 3.5.1     \u001b[32m✔\u001b[39m \u001b[34mtibble   \u001b[39m 3.2.1\n",
      "\u001b[32m✔\u001b[39m \u001b[34mlubridate\u001b[39m 1.9.3     \u001b[32m✔\u001b[39m \u001b[34mtidyr    \u001b[39m 1.3.1\n",
      "\u001b[32m✔\u001b[39m \u001b[34mpurrr    \u001b[39m 1.0.2     \n",
      "── \u001b[1mConflicts\u001b[22m ────────────────────────────────────────── tidyverse_conflicts() ──\n",
      "\u001b[31m✖\u001b[39m \u001b[34mdplyr\u001b[39m::\u001b[32mfilter()\u001b[39m masks \u001b[34mstats\u001b[39m::filter()\n",
      "\u001b[31m✖\u001b[39m \u001b[34mdplyr\u001b[39m::\u001b[32mlag()\u001b[39m    masks \u001b[34mstats\u001b[39m::lag()\n",
      "\u001b[36mℹ\u001b[39m Use the conflicted package (\u001b[3m\u001b[34m<http://conflicted.r-lib.org/>\u001b[39m\u001b[23m) to force all conflicts to become errors\n",
      "── \u001b[1mAttaching packages\u001b[22m ────────────────────────────────────── tidymodels 1.1.1 ──\n",
      "\n",
      "\u001b[32m✔\u001b[39m \u001b[34mbroom       \u001b[39m 1.0.6     \u001b[32m✔\u001b[39m \u001b[34mrsample     \u001b[39m 1.2.1\n",
      "\u001b[32m✔\u001b[39m \u001b[34mdials       \u001b[39m 1.3.0     \u001b[32m✔\u001b[39m \u001b[34mtune        \u001b[39m 1.1.2\n",
      "\u001b[32m✔\u001b[39m \u001b[34minfer       \u001b[39m 1.0.7     \u001b[32m✔\u001b[39m \u001b[34mworkflows   \u001b[39m 1.1.4\n",
      "\u001b[32m✔\u001b[39m \u001b[34mmodeldata   \u001b[39m 1.4.0     \u001b[32m✔\u001b[39m \u001b[34mworkflowsets\u001b[39m 1.0.1\n",
      "\u001b[32m✔\u001b[39m \u001b[34mparsnip     \u001b[39m 1.2.1     \u001b[32m✔\u001b[39m \u001b[34myardstick   \u001b[39m 1.3.1\n",
      "\u001b[32m✔\u001b[39m \u001b[34mrecipes     \u001b[39m 1.1.0     \n",
      "\n",
      "── \u001b[1mConflicts\u001b[22m ───────────────────────────────────────── tidymodels_conflicts() ──\n",
      "\u001b[31m✖\u001b[39m \u001b[34mscales\u001b[39m::\u001b[32mdiscard()\u001b[39m masks \u001b[34mpurrr\u001b[39m::discard()\n",
      "\u001b[31m✖\u001b[39m \u001b[34mdplyr\u001b[39m::\u001b[32mfilter()\u001b[39m   masks \u001b[34mstats\u001b[39m::filter()\n",
      "\u001b[31m✖\u001b[39m \u001b[34mrecipes\u001b[39m::\u001b[32mfixed()\u001b[39m  masks \u001b[34mstringr\u001b[39m::fixed()\n",
      "\u001b[31m✖\u001b[39m \u001b[34mdplyr\u001b[39m::\u001b[32mlag()\u001b[39m      masks \u001b[34mstats\u001b[39m::lag()\n",
      "\u001b[31m✖\u001b[39m \u001b[34myardstick\u001b[39m::\u001b[32mspec()\u001b[39m masks \u001b[34mreadr\u001b[39m::spec()\n",
      "\u001b[31m✖\u001b[39m \u001b[34mrecipes\u001b[39m::\u001b[32mstep()\u001b[39m   masks \u001b[34mstats\u001b[39m::step()\n",
      "\u001b[34m•\u001b[39m Dig deeper into tidy modeling with R at \u001b[32mhttps://www.tmwr.org\u001b[39m\n",
      "\n"
     ]
    }
   ],
   "source": [
    "# Run this cell before continuing to load all the necessary packages \n",
    "library(tidyverse)\n",
    "library(repr)\n",
    "library(tidymodels)\n",
    "options(repr.matrix.max.rows = 6)"
   ]
  },
  {
   "cell_type": "code",
   "execution_count": 2,
   "id": "6a32aef9-de56-402d-9434-ef49cb6af5a1",
   "metadata": {},
   "outputs": [
    {
     "name": "stderr",
     "output_type": "stream",
     "text": [
      "\u001b[1mRows: \u001b[22m\u001b[34m196\u001b[39m \u001b[1mColumns: \u001b[22m\u001b[34m7\u001b[39m\n",
      "\u001b[36m──\u001b[39m \u001b[1mColumn specification\u001b[22m \u001b[36m────────────────────────────────────────────────────────\u001b[39m\n",
      "\u001b[1mDelimiter:\u001b[22m \",\"\n",
      "\u001b[31mchr\u001b[39m (4): experience, hashedEmail, name, gender\n",
      "\u001b[32mdbl\u001b[39m (2): played_hours, Age\n",
      "\u001b[33mlgl\u001b[39m (1): subscribe\n",
      "\n",
      "\u001b[36mℹ\u001b[39m Use `spec()` to retrieve the full column specification for this data.\n",
      "\u001b[36mℹ\u001b[39m Specify the column types or set `show_col_types = FALSE` to quiet this message.\n"
     ]
    },
    {
     "data": {
      "text/html": [
       "<table class=\"dataframe\">\n",
       "<caption>A tibble: 194 × 3</caption>\n",
       "<thead>\n",
       "\t<tr><th scope=col>subscribe</th><th scope=col>played_hours</th><th scope=col>Age</th></tr>\n",
       "\t<tr><th scope=col>&lt;fct&gt;</th><th scope=col>&lt;dbl&gt;</th><th scope=col>&lt;dbl&gt;</th></tr>\n",
       "</thead>\n",
       "<tbody>\n",
       "\t<tr><td>Yes</td><td>30.3</td><td> 9</td></tr>\n",
       "\t<tr><td>Yes</td><td> 3.8</td><td>17</td></tr>\n",
       "\t<tr><td>No </td><td> 0.0</td><td>17</td></tr>\n",
       "\t<tr><td>⋮</td><td>⋮</td><td>⋮</td></tr>\n",
       "\t<tr><td>No</td><td>0.3</td><td>22</td></tr>\n",
       "\t<tr><td>No</td><td>0.0</td><td>17</td></tr>\n",
       "\t<tr><td>No</td><td>2.3</td><td>17</td></tr>\n",
       "</tbody>\n",
       "</table>\n"
      ],
      "text/latex": [
       "A tibble: 194 × 3\n",
       "\\begin{tabular}{lll}\n",
       " subscribe & played\\_hours & Age\\\\\n",
       " <fct> & <dbl> & <dbl>\\\\\n",
       "\\hline\n",
       "\t Yes & 30.3 &  9\\\\\n",
       "\t Yes &  3.8 & 17\\\\\n",
       "\t No  &  0.0 & 17\\\\\n",
       "\t ⋮ & ⋮ & ⋮\\\\\n",
       "\t No & 0.3 & 22\\\\\n",
       "\t No & 0.0 & 17\\\\\n",
       "\t No & 2.3 & 17\\\\\n",
       "\\end{tabular}\n"
      ],
      "text/markdown": [
       "\n",
       "A tibble: 194 × 3\n",
       "\n",
       "| subscribe &lt;fct&gt; | played_hours &lt;dbl&gt; | Age &lt;dbl&gt; |\n",
       "|---|---|---|\n",
       "| Yes | 30.3 |  9 |\n",
       "| Yes |  3.8 | 17 |\n",
       "| No  |  0.0 | 17 |\n",
       "| ⋮ | ⋮ | ⋮ |\n",
       "| No | 0.3 | 22 |\n",
       "| No | 0.0 | 17 |\n",
       "| No | 2.3 | 17 |\n",
       "\n"
      ],
      "text/plain": [
       "    subscribe played_hours Age\n",
       "1   Yes       30.3          9 \n",
       "2   Yes        3.8         17 \n",
       "3   No         0.0         17 \n",
       "⋮   ⋮         ⋮            ⋮  \n",
       "192 No        0.3          22 \n",
       "193 No        0.0          17 \n",
       "194 No        2.3          17 "
      ]
     },
     "metadata": {},
     "output_type": "display_data"
    }
   ],
   "source": [
    "# Read and load the dataset \n",
    "players <- read_csv(\"data/players.csv\") |>\n",
    "    # Clean up the dataset to only include the two predictor variables of interest and the response variable\n",
    "    select(subscribe, played_hours, Age) |>\n",
    "    # Convert the logical subscribe variable to the factor datatype\n",
    "    mutate(subscribe = as_factor(subscribe))|>\n",
    "    # rename the factor values to be more readable\n",
    "    mutate(subscribe = fct_recode(subscribe, \"Yes\" = \"TRUE\", \"No\" = \"FALSE\")) |>\n",
    "    # exclude the NAs in the dataset\n",
    "    drop_na()\n",
    "players"
   ]
  },
  {
   "cell_type": "markdown",
   "id": "b2669b09-c0a9-49fe-876b-fd67775119ae",
   "metadata": {},
   "source": [
    "Next, I will create the classifier model by splitting the dataset into a training and testing data set."
   ]
  },
  {
   "cell_type": "code",
   "execution_count": 3,
   "id": "b01e48e6-355a-457e-87b9-5249bcadee6a",
   "metadata": {},
   "outputs": [
    {
     "name": "stdout",
     "output_type": "stream",
     "text": [
      "Rows: 145\n",
      "Columns: 3\n",
      "$ subscribe    \u001b[3m\u001b[90m<fct>\u001b[39m\u001b[23m No, No, No, No, No, No, No, No, No, No, No, No, No, No, N…\n",
      "$ played_hours \u001b[3m\u001b[90m<dbl>\u001b[39m\u001b[23m 0.0, 0.1, 0.0, 0.0, 1.4, 0.0, 0.0, 0.9, 0.0, 0.1, 0.2, 0.…\n",
      "$ Age          \u001b[3m\u001b[90m<dbl>\u001b[39m\u001b[23m 22, 17, 23, 33, 25, 24, 23, 18, 42, 22, 37, 28, 23, 17, 1…\n"
     ]
    }
   ],
   "source": [
    "set.seed(123)\n",
    "\n",
    "players_split <- initial_split(players, prop = 0.75, strata = subscribe)\n",
    "players_train <- training(players_split)\n",
    "players_test <- testing(players_split)\n",
    "\n",
    "# View the data\n",
    "glimpse(players_train)"
   ]
  },
  {
   "cell_type": "markdown",
   "id": "48716724-33b9-43c0-b34d-b3477f7bbc22",
   "metadata": {},
   "source": [
    "Using the training dataset, I will create three different recipes that use the variable `played_hours`, `Age`, and `played_hours` and `Age` as the predictor variables. Afterwards, each recipe will also be fitted with the K-nearest neighbors classification model that uses $K = 5$ to determine which recipe has the highest accuracy for $K = 5$."
   ]
  },
  {
   "cell_type": "code",
   "execution_count": 10,
   "id": "1265d05d-f658-433c-9afb-a83fcf7ac305",
   "metadata": {},
   "outputs": [
    {
     "data": {
      "text/html": [
       "<table class=\"dataframe\">\n",
       "<caption>A tibble: 1 × 3</caption>\n",
       "<thead>\n",
       "\t<tr><th scope=col>.metric</th><th scope=col>.estimator</th><th scope=col>.estimate</th></tr>\n",
       "\t<tr><th scope=col>&lt;chr&gt;</th><th scope=col>&lt;chr&gt;</th><th scope=col>&lt;dbl&gt;</th></tr>\n",
       "</thead>\n",
       "<tbody>\n",
       "\t<tr><td>accuracy</td><td>binary</td><td>0.5102041</td></tr>\n",
       "</tbody>\n",
       "</table>\n"
      ],
      "text/latex": [
       "A tibble: 1 × 3\n",
       "\\begin{tabular}{lll}\n",
       " .metric & .estimator & .estimate\\\\\n",
       " <chr> & <chr> & <dbl>\\\\\n",
       "\\hline\n",
       "\t accuracy & binary & 0.5102041\\\\\n",
       "\\end{tabular}\n"
      ],
      "text/markdown": [
       "\n",
       "A tibble: 1 × 3\n",
       "\n",
       "| .metric &lt;chr&gt; | .estimator &lt;chr&gt; | .estimate &lt;dbl&gt; |\n",
       "|---|---|---|\n",
       "| accuracy | binary | 0.5102041 |\n",
       "\n"
      ],
      "text/plain": [
       "  .metric  .estimator .estimate\n",
       "1 accuracy binary     0.5102041"
      ]
     },
     "metadata": {},
     "output_type": "display_data"
    }
   ],
   "source": [
    "# Recipe for the classifer with predictor variable played_hours. No need to standardize the variables because there is only one. \n",
    "players_recipe <- recipe(subscribe ~ played_hours, data = players_train)\n",
    "\n",
    "# Knn model specification\n",
    "players_knn <- nearest_neighbor(weight_func = \"rectangular\", neighbors = 5) |>\n",
    "    set_engine(\"kknn\") |>\n",
    "    set_mode(\"classification\")\n",
    "\n",
    "# Fit the recipe and model \n",
    "players_fit <- workflow() |>\n",
    "    add_recipe(players_recipe) |>\n",
    "    add_model(players_knn) |>\n",
    "    fit(data = players_train)\n",
    "\n",
    "players_test_predictions <- predict(players_fit, players_test) |>\n",
    "  bind_cols(players_test)\n",
    "\n",
    "players_test_accuracy <- players_test_predictions |>\n",
    "  metrics(truth = subscribe, estimate = .pred_class) |>\n",
    "  filter(.metric == \"accuracy\")\n",
    "\n",
    "players_test_accuracy"
   ]
  },
  {
   "cell_type": "code",
   "execution_count": 12,
   "id": "7721d53a-287d-4c08-b49c-9a586c8719e3",
   "metadata": {},
   "outputs": [
    {
     "data": {
      "text/html": [
       "<table class=\"dataframe\">\n",
       "<caption>A tibble: 1 × 3</caption>\n",
       "<thead>\n",
       "\t<tr><th scope=col>.metric</th><th scope=col>.estimator</th><th scope=col>.estimate</th></tr>\n",
       "\t<tr><th scope=col>&lt;chr&gt;</th><th scope=col>&lt;chr&gt;</th><th scope=col>&lt;dbl&gt;</th></tr>\n",
       "</thead>\n",
       "<tbody>\n",
       "\t<tr><td>accuracy</td><td>binary</td><td>0.4897959</td></tr>\n",
       "</tbody>\n",
       "</table>\n"
      ],
      "text/latex": [
       "A tibble: 1 × 3\n",
       "\\begin{tabular}{lll}\n",
       " .metric & .estimator & .estimate\\\\\n",
       " <chr> & <chr> & <dbl>\\\\\n",
       "\\hline\n",
       "\t accuracy & binary & 0.4897959\\\\\n",
       "\\end{tabular}\n"
      ],
      "text/markdown": [
       "\n",
       "A tibble: 1 × 3\n",
       "\n",
       "| .metric &lt;chr&gt; | .estimator &lt;chr&gt; | .estimate &lt;dbl&gt; |\n",
       "|---|---|---|\n",
       "| accuracy | binary | 0.4897959 |\n",
       "\n"
      ],
      "text/plain": [
       "  .metric  .estimator .estimate\n",
       "1 accuracy binary     0.4897959"
      ]
     },
     "metadata": {},
     "output_type": "display_data"
    }
   ],
   "source": [
    "# Recipe for the classifer with predictor variable Age. No need to standardize the variables because there is only one. \n",
    "\n",
    "players_recipe_2 <- recipe(subscribe ~ Age, data = players_train)\n",
    "\n",
    "# Fit the recipe and same knn model as before\n",
    "players_fit_2 <- workflow() |>\n",
    "    add_recipe(players_recipe_2) |>\n",
    "    add_model(players_knn) |>\n",
    "    fit(data = players_train)\n",
    "\n",
    "players_test_predictions_2 <- predict(players_fit_2, players_test) |>\n",
    "  bind_cols(players_test)\n",
    "\n",
    "players_test_accuracy_2 <- players_test_predictions_2 |>\n",
    "  metrics(truth = subscribe, estimate = .pred_class) |>\n",
    "  filter(.metric == \"accuracy\")\n",
    "\n",
    "players_test_accuracy_2"
   ]
  },
  {
   "cell_type": "code",
   "execution_count": 13,
   "id": "b2c9f7fb-66f6-4df6-bd27-2518aada80c8",
   "metadata": {},
   "outputs": [
    {
     "data": {
      "text/html": [
       "<table class=\"dataframe\">\n",
       "<caption>A tibble: 1 × 3</caption>\n",
       "<thead>\n",
       "\t<tr><th scope=col>.metric</th><th scope=col>.estimator</th><th scope=col>.estimate</th></tr>\n",
       "\t<tr><th scope=col>&lt;chr&gt;</th><th scope=col>&lt;chr&gt;</th><th scope=col>&lt;dbl&gt;</th></tr>\n",
       "</thead>\n",
       "<tbody>\n",
       "\t<tr><td>accuracy</td><td>binary</td><td>0.6530612</td></tr>\n",
       "</tbody>\n",
       "</table>\n"
      ],
      "text/latex": [
       "A tibble: 1 × 3\n",
       "\\begin{tabular}{lll}\n",
       " .metric & .estimator & .estimate\\\\\n",
       " <chr> & <chr> & <dbl>\\\\\n",
       "\\hline\n",
       "\t accuracy & binary & 0.6530612\\\\\n",
       "\\end{tabular}\n"
      ],
      "text/markdown": [
       "\n",
       "A tibble: 1 × 3\n",
       "\n",
       "| .metric &lt;chr&gt; | .estimator &lt;chr&gt; | .estimate &lt;dbl&gt; |\n",
       "|---|---|---|\n",
       "| accuracy | binary | 0.6530612 |\n",
       "\n"
      ],
      "text/plain": [
       "  .metric  .estimator .estimate\n",
       "1 accuracy binary     0.6530612"
      ]
     },
     "metadata": {},
     "output_type": "display_data"
    }
   ],
   "source": [
    "# Recipe for the classifer with predictor variables played_hours and Age.\n",
    "\n",
    "players_recipe_3 <- recipe(subscribe ~ played_hours + Age, data = players_train) |>\n",
    "    step_scale(all_predictors()) |>\n",
    "    step_center(all_predictors())\n",
    "\n",
    "# Fit the recipe and same knn model as before \n",
    "players_fit_3 <- workflow() |>\n",
    "    add_recipe(players_recipe_3) |>\n",
    "    add_model(players_knn) |>\n",
    "    fit(data = players_train)\n",
    "\n",
    "players_test_predictions_3 <- predict(players_fit_3, players_test) |>\n",
    "  bind_cols(players_test)\n",
    "\n",
    "players_test_accuracy_3 <- players_test_predictions_3 |>\n",
    "  metrics(truth = subscribe, estimate = .pred_class) |>\n",
    "  filter(.metric == \"accuracy\")\n",
    "\n",
    "players_test_accuracy_3"
   ]
  }
 ],
 "metadata": {
  "kernelspec": {
   "display_name": "R",
   "language": "R",
   "name": "ir"
  },
  "language_info": {
   "codemirror_mode": "r",
   "file_extension": ".r",
   "mimetype": "text/x-r-source",
   "name": "R",
   "pygments_lexer": "r",
   "version": "4.3.3"
  }
 },
 "nbformat": 4,
 "nbformat_minor": 5
}
